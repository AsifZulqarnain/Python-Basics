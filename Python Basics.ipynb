{
 "cells": [
  {
   "cell_type": "markdown",
   "id": "610376c6",
   "metadata": {},
   "source": [
    "# History of python"
   ]
  },
  {
   "cell_type": "markdown",
   "id": "6305232f",
   "metadata": {},
   "source": [
    "* It was developed by th Guido Van Rossum in the late 80's and early 90's at National Research Institude for Mathematics and Computer Science in the Netherlands.\n",
    "* its version 0.9.0 was released in 1991 with features functions, data types\n",
    "* Latest version of python is 3.11.2\n"
   ]
  },
  {
   "cell_type": "markdown",
   "id": "3bbc89b8",
   "metadata": {},
   "source": [
    "# Python Features"
   ]
  },
  {
   "cell_type": "markdown",
   "id": "9133bd59",
   "metadata": {},
   "source": [
    "* Easy to Learn and Use\n",
    "* Expressive Language\n",
    "* Interpreted Language\n",
    "* Cross-platform Language\n",
    "* Free and Open Source\n",
    "* Object Oriented Language\n",
    "* Extensible\n",
    "* Large Standard Library\n",
    "* GUI Programming Support\n",
    "* Integrated"
   ]
  },
  {
   "cell_type": "markdown",
   "id": "c42626ba",
   "metadata": {},
   "source": [
    "# Literal Constants"
   ]
  },
  {
   "cell_type": "markdown",
   "id": "fbbb45a9",
   "metadata": {},
   "source": [
    "The Literal Constants can be 10, 10.5, 'A', \"Hello\". These can be directly used in the program. Constant is a fixed values that does not change. "
   ]
  },
  {
   "cell_type": "markdown",
   "id": "54558f61",
   "metadata": {},
   "source": [
    "## Numbers\n",
    "It is a numerical value. We can use four types numbers in python. They are Binary Number, Integral Numbers, Floating Point Numbers and Complex Number.\n",
    "#### Commas are not allowed in numerical"
   ]
  },
  {
   "cell_type": "markdown",
   "id": "bff819b5",
   "metadata": {},
   "source": [
    "### Binary Number\n",
    "They are made up of with 0's and 1's. In Python every binary number begins with either 0b or 0B (zero b). e.g., 0b1110, 0B111\n",
    "\n",
    "### Intergral Number\n",
    "They can be whole numbers or integer number or octal number of hexadecimal number"
   ]
  },
  {
   "cell_type": "markdown",
   "id": "50c38c0f",
   "metadata": {},
   "source": [
    "1. Integer Number are identified by int\n",
    "2. Octal Numbers are identified by oct\n",
    "3. Hexadecimal Number are identified by hex"
   ]
  },
  {
   "cell_type": "markdown",
   "id": "ea7eeb86",
   "metadata": {},
   "source": [
    "### Floating Point Number \n",
    "They are like 5.678, 91.45. They are identified by the word float\n",
    "\n",
    "### Complex Number \n",
    "They have real and imaginary part like a+bj. e.g., 1+5j, 7-8j. They are identified by complex"
   ]
  },
  {
   "cell_type": "markdown",
   "id": "737204e1",
   "metadata": {},
   "source": [
    "## Strings\n",
    "A string is a group of characters. \n",
    "* Using single quotes ('): 'Hello'\n",
    "* Using double quotes (\"): \"Hello\"\n",
    "* Using triple quotes(''' '''): Used for mutli-line strings '''Hello'''"
   ]
  },
  {
   "cell_type": "code",
   "execution_count": 2,
   "id": "75d377fb",
   "metadata": {},
   "outputs": [
    {
     "name": "stdout",
     "output_type": "stream",
     "text": [
      "Hello --- Single Quotes\n",
      "Hello --- Double Quotes\n",
      "Hello --- Triple Quotes\n"
     ]
    }
   ],
   "source": [
    "print('Hello', '--- Single Quotes')\n",
    "print(\"Hello\", '--- Double Quotes')\n",
    "print('''Hello''', '--- Triple Quotes')"
   ]
  },
  {
   "cell_type": "markdown",
   "id": "d38b4422",
   "metadata": {},
   "source": [
    "### Escape Sequesnce\n",
    "Some characters (like \", \\) cannot be directly included in a string. Such characters must be escaped by placing a blackslash before them."
   ]
  },
  {
   "cell_type": "code",
   "execution_count": 3,
   "id": "b1a8ec58",
   "metadata": {},
   "outputs": [
    {
     "name": "stdout",
     "output_type": "stream",
     "text": [
      "The boy said, \"My name is Ali\"\n"
     ]
    }
   ],
   "source": [
    "print(\"The boy said, \\\"My name is Ali\\\"\")"
   ]
  },
  {
   "cell_type": "code",
   "execution_count": 15,
   "id": "b4e04e1b",
   "metadata": {},
   "outputs": [
    {
     "name": "stdout",
     "output_type": "stream",
     "text": [
      "Backslash --- \\\n",
      "Single Quotes --- '\n",
      "Double Quotes --- \"\n",
      "From Feed character --- Hello\f",
      "World\n",
      "Newline Character --- Hello\n",
      "World\n",
      "A Tab --- Hello\tWorld\n",
      "Octal Value --- \\o56\n",
      "Hex Value --- \n"
     ]
    }
   ],
   "source": [
    "print(\"Backslash ---\", \"\\\\\")\n",
    "print(\"Single Quotes ---\", \"\\'\")\n",
    "print(\"Double Quotes ---\", \"\\\"\")\n",
    "print(\"From Feed character ---\", \"Hello\\fWorld\")\n",
    "print(\"Newline Character ---\", \"Hello\\nWorld\")\n",
    "print(\"A Tab ---\", \"Hello\\tWorld\")\n",
    "print(\"Octal Value ---\", \"\\o56\")\n",
    "print(\"Hex Value ---\", \"\\x86\")"
   ]
  },
  {
   "cell_type": "markdown",
   "id": "6db51cf0",
   "metadata": {},
   "source": [
    "### Triple Quotes\n",
    "1. They can be used for multi-line string literals"
   ]
  },
  {
   "cell_type": "code",
   "execution_count": 17,
   "id": "5825d19a",
   "metadata": {},
   "outputs": [
    {
     "name": "stdout",
     "output_type": "stream",
     "text": [
      "Hello\n",
      "World\n",
      "Welcome\n"
     ]
    }
   ],
   "source": [
    "print('''Hello\n",
    "World\n",
    "Welcome''')"
   ]
  },
  {
   "cell_type": "markdown",
   "id": "8b068999",
   "metadata": {},
   "source": [
    "2. They can be used for printing a single or double quotes"
   ]
  },
  {
   "cell_type": "code",
   "execution_count": 18,
   "id": "b33b8bf4",
   "metadata": {},
   "outputs": [
    {
     "name": "stdout",
     "output_type": "stream",
     "text": [
      "Hello\n",
      "'World'\n",
      "Welcome\n"
     ]
    }
   ],
   "source": [
    "print('''Hello\n",
    "'World'\n",
    "Welcome''')"
   ]
  },
  {
   "cell_type": "code",
   "execution_count": 19,
   "id": "598604e9",
   "metadata": {},
   "outputs": [
    {
     "name": "stdout",
     "output_type": "stream",
     "text": [
      "Hello\n",
      "\"World\"\n",
      "Welcome\n"
     ]
    }
   ],
   "source": [
    "print('''Hello\n",
    "\"World\"\n",
    "Welcome''')"
   ]
  },
  {
   "cell_type": "markdown",
   "id": "356e1ad9",
   "metadata": {},
   "source": [
    "### String Formatting\n",
    "The format function can be used to control the display of strings"
   ]
  },
  {
   "cell_type": "code",
   "execution_count": 28,
   "id": "af9a360e",
   "metadata": {},
   "outputs": [
    {
     "name": "stdout",
     "output_type": "stream",
     "text": [
      "Left Justfication --- Hello*****\n",
      "Right Justification --- *****Hello\n",
      "Cental Justification --- ***Hello***\n"
     ]
    }
   ],
   "source": [
    "print(\"Left Justfication ---\", format(\"Hello\", \"*<10\"))\n",
    "print(\"Right Justification ---\", format(\"Hello\", \"*>10\"))\n",
    "print(\"Cental Justification ---\", format(\"Hello\", \"*^11\"))"
   ]
  },
  {
   "cell_type": "markdown",
   "id": "a8e65aa3",
   "metadata": {},
   "source": [
    "# Identifiers\n",
    "* An identifier is a name used to identify a variable, function, class, module, or object. In python, an identifier is a noun in English. They help in differentiating one entity from the other. e.g., name and age which are two different aspects are called identifiers.\n",
    "* Python is a case senstitive language. So, Name and name are two different identifiers."
   ]
  },
  {
   "cell_type": "code",
   "execution_count": 29,
   "id": "e322d677",
   "metadata": {},
   "outputs": [],
   "source": [
    "# Different identifiers having same value\n",
    "Name = 'Noor Ul Ain'\n",
    "name = 'Noor Ul Ain'"
   ]
  },
  {
   "cell_type": "markdown",
   "id": "9a7a2916",
   "metadata": {},
   "source": [
    "### Rules for indentifiers\n",
    "1. They can be a combiantion of lowercase letters <b>(a to z)</b> or uppercase letter <b>(A to Z)</b> or digits <b>(0 to 9)</b> or an underscore <b>(_)</b>. e.g., myClass, var_1, print_to_screen, _number\n",
    "\n",
    "2. They can't start with a digit. e.g., 1_var\n",
    "3. Keywords can't be used as identifiers (Keywords are reserved words with special meanings) e.g., def, while, for, and, if, else etc.\n",
    "4. Special Symbols except underscore <b>(_)</b> are not allowed in identifiers. e.g., company#name, %name, email@id\n",
    "5. They can be of any length"
   ]
  },
  {
   "cell_type": "markdown",
   "id": "c1969717",
   "metadata": {},
   "source": [
    "# Variables\n",
    "* It is a name used to store a constant. You can store any piece of information in a variable. They are just part of computer's memory where the information is stored. \n",
    "* There is no need to declare or write type of a variable. Python interpreter automatically determines the type of variable based on the data stored in it.\n",
    "* Each variable is given a appropriate name to be identified easily\n",
    "* Assigning a value to a variable is called binding"
   ]
  },
  {
   "cell_type": "code",
   "execution_count": 31,
   "id": "f8280b72",
   "metadata": {},
   "outputs": [],
   "source": [
    "age = 21\n",
    "city = 'Lahore'\n",
    "miles = 100.50\n",
    "value1 = \"Hello World\""
   ]
  },
  {
   "cell_type": "markdown",
   "id": "bb948ef5",
   "metadata": {},
   "source": [
    "### Exercise 1\n",
    "Write a program which does the following\n",
    "1. Create a variable kilometers and assign 6 to it\n",
    "2. Create a variable convertfactor and assign 0.621371 to it\n",
    "3. Calculate the product of kilometers and convertfactor and assign it to a variable miles\n",
    "4. Print the value of miles as \"Miles:\" miles"
   ]
  },
  {
   "cell_type": "markdown",
   "id": "41ff4d23",
   "metadata": {},
   "source": [
    "### Multiple Assignment of variables\n",
    "1. Python allows you to assign a single value to several variables simultaneously. It is called chained assignment"
   ]
  },
  {
   "cell_type": "code",
   "execution_count": 32,
   "id": "e982997b",
   "metadata": {},
   "outputs": [
    {
     "name": "stdout",
     "output_type": "stream",
     "text": [
      "50\n",
      "50\n",
      "50\n"
     ]
    }
   ],
   "source": [
    "num1 = num2 = num3 = 50\n",
    "print(num1)\n",
    "print(num2)\n",
    "print(num3)"
   ]
  },
  {
   "cell_type": "markdown",
   "id": "25d9cb5f",
   "metadata": {},
   "source": [
    "2. Python also allows you to assign multiple objects to multiple variables. This is called multiple assignment"
   ]
  },
  {
   "cell_type": "code",
   "execution_count": 33,
   "id": "0137152b",
   "metadata": {},
   "outputs": [
    {
     "name": "stdout",
     "output_type": "stream",
     "text": [
      "1\n",
      "2.5\n",
      "Hello\n"
     ]
    }
   ],
   "source": [
    "value1, value2, value3 = 1, 2.5, 'Hello'\n",
    "print(value1)\n",
    "print(value2)\n",
    "print(value3)"
   ]
  },
  {
   "cell_type": "markdown",
   "id": "9de94001",
   "metadata": {},
   "source": [
    "### Exercise 2\n",
    "Write a program to assign the integer 999, float 24.789 and string 'Python Interpreter' to three variables using multiple assignment and print them individually."
   ]
  },
  {
   "cell_type": "markdown",
   "id": "05f43e25",
   "metadata": {},
   "source": [
    "### Exercise 3\n",
    "Write a program to assign a user given value to a, b, c variables.<br>\n",
    "Hint: input() method is used in python to take input from the user"
   ]
  },
  {
   "cell_type": "markdown",
   "id": "4d8f6e81",
   "metadata": {},
   "source": [
    "# Data Types\n",
    "Variables can hold values of different data types. In python we don't need to define the type of the variable while declaring it. Te interpreter implicilty binds the value with its type.<br>\n",
    "type() is function that tell the type of the variables"
   ]
  },
  {
   "cell_type": "code",
   "execution_count": 34,
   "id": "854d1c65",
   "metadata": {},
   "outputs": [
    {
     "name": "stdout",
     "output_type": "stream",
     "text": [
      "<class 'int'>\n",
      "<class 'str'>\n",
      "<class 'float'>\n"
     ]
    }
   ],
   "source": [
    "a = 10\n",
    "b = \"Hello World\"\n",
    "c = 10.5\n",
    "\n",
    "print(type(a))\n",
    "print(type(b))\n",
    "print(type(c))"
   ]
  },
  {
   "cell_type": "markdown",
   "id": "84804ea4",
   "metadata": {},
   "source": [
    "## Standard Data Types\n",
    "Python provides various standard data types that define the storage method on each of them. These data types are:\n",
    "1. Number\n",
    "2. String\n",
    "3. List\n",
    "4. Tuple\n",
    "5. Set\n",
    "6. Dictionary"
   ]
  },
  {
   "cell_type": "markdown",
   "id": "5ea41919",
   "metadata": {},
   "source": [
    "# Python Keywords\n",
    "They are special reserved words which convey a special meaning to the compiler/interpreter. Each keyword has a special meaning anf a specific operation. These can't be used as variables.<br>\n",
    "Some keywords list is shown below:"
   ]
  },
  {
   "cell_type": "markdown",
   "id": "2972c26e",
   "metadata": {},
   "source": [
    "||||||\n",
    "| --- | --- | --- | --- | --- |\n",
    "| True | False | None | and | as |\n",
    "| Asset | def | class | continue | break |\n",
    "| else | finally | elif | del | except |\n",
    "| global | for | if | from | import |\n",
    "| raise | try | or | return | pass |\n",
    "| nonlocal | in | not | is | lambda |\n"
   ]
  },
  {
   "cell_type": "markdown",
   "id": "434a76ad",
   "metadata": {},
   "source": [
    "# Comments\n",
    "It is used to mark a section of a code as non-executable.<br>\n",
    "They are mainly used for two purposes: <br>\n",
    "1. To mark a section of a source code as non-executable, so that the Python interpreter ignores it.\n",
    "2. To provide remarks or an explanation on the working of the given section of code in plain English, so that a fellow programmer can read the comments and understand the code.\n",
    "\n",
    "In python, there are two types of comments:\n",
    "1. Single-line Comments: It starts with # and the content following # till the end of that line is a comment.\n",
    "2. Docstring Comments: Content enclosed between tripple quotes either ''' or \"\"\" "
   ]
  },
  {
   "cell_type": "code",
   "execution_count": 36,
   "id": "20784b6f",
   "metadata": {},
   "outputs": [
    {
     "data": {
      "text/plain": [
       "'This \\nis \\nmulti line \\ncomment'"
      ]
     },
     "execution_count": 36,
     "metadata": {},
     "output_type": "execute_result"
    }
   ],
   "source": [
    "# This is a comment\n",
    "'''This \n",
    "is \n",
    "multi line \n",
    "comment'''"
   ]
  },
  {
   "cell_type": "markdown",
   "id": "23cd6948",
   "metadata": {},
   "source": [
    "# Input Statement\n",
    "To read the input from the user, built-in function input() is used.<br>\n",
    "Syntax is input([prompt])"
   ]
  },
  {
   "cell_type": "code",
   "execution_count": 39,
   "id": "20fd5b8f",
   "metadata": {},
   "outputs": [
    {
     "name": "stdout",
     "output_type": "stream",
     "text": [
      "Enter your name: Noor\n",
      "Noor\n"
     ]
    }
   ],
   "source": [
    "name = input(\"Enter your name: \")\n",
    "print(name)"
   ]
  },
  {
   "cell_type": "markdown",
   "id": "b6dff544",
   "metadata": {},
   "source": [
    "### Exercise 4\n",
    "Write a program to print your favorite place. At the time of execution, the program should print the message on the console"
   ]
  },
  {
   "cell_type": "markdown",
   "id": "72d93a67",
   "metadata": {},
   "source": [
    "# Output Statement\n",
    "To show something on console, built0in function print() is used. <br>\n",
    "There are different ways to output in python"
   ]
  },
  {
   "cell_type": "code",
   "execution_count": 43,
   "id": "10d407bd",
   "metadata": {},
   "outputs": [
    {
     "name": "stdout",
     "output_type": "stream",
     "text": [
      "Hello\n",
      "Hello World\n",
      "Hello World\n"
     ]
    }
   ],
   "source": [
    "print(\"Hello\") # Single string\n",
    "print(\"Hello\", \"World\") # Separated by commas\n",
    "print(\"Hello\" + \" World\") # Concatenation of strings"
   ]
  },
  {
   "cell_type": "code",
   "execution_count": 51,
   "id": "1d6fd356",
   "metadata": {},
   "outputs": [
    {
     "name": "stdout",
     "output_type": "stream",
     "text": [
      "The value of a is 10 and value of b is 50\n",
      "The value of a is 10 and value of b is 50\n",
      "The value of a is 10 and value of b is 50\n",
      "The value of a is 10 and value of b is 50\n",
      "The value of b is 50 and value of a is 10\n"
     ]
    }
   ],
   "source": [
    "a = 10\n",
    "b = 50\n",
    "print(\"The value of a is\", a , \"and value of b is\", b)\n",
    "print(\"The value of a is %r and value of b is %r\" % (a, b))\n",
    "print(\"The value of a is {} and value of b is {}\".format(a, b))\n",
    "print(\"The value of a is {0} and value of b is {1}\".format(a, b))\n",
    "print(\"The value of b is {1} and value of a is {0}\".format(a, b))"
   ]
  },
  {
   "cell_type": "code",
   "execution_count": null,
   "id": "d3e60f2d",
   "metadata": {},
   "outputs": [],
   "source": []
  }
 ],
 "metadata": {
  "kernelspec": {
   "display_name": "Python 3 (ipykernel)",
   "language": "python",
   "name": "python3"
  },
  "language_info": {
   "codemirror_mode": {
    "name": "ipython",
    "version": 3
   },
   "file_extension": ".py",
   "mimetype": "text/x-python",
   "name": "python",
   "nbconvert_exporter": "python",
   "pygments_lexer": "ipython3",
   "version": "3.9.13"
  }
 },
 "nbformat": 4,
 "nbformat_minor": 5
}
